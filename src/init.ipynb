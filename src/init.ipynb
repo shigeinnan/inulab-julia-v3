{
 "cells": [
  {
   "cell_type": "markdown",
   "id": "a304224c",
   "metadata": {},
   "source": [
    "# JupyterによるJuliaの動作確認とJuliaのライブラリの確認に使用"
   ]
  },
  {
   "cell_type": "code",
   "execution_count": 9,
   "id": "0a513b0d",
   "metadata": {},
   "outputs": [
    {
     "name": "stderr",
     "output_type": "stream",
     "text": [
      "┌ Warning: Pkg.installed() is deprecated\n",
      "└ @ Pkg /root/.julia/juliaup/julia-1.11.2+0.x64.linux.gnu/share/julia/stdlib/v1.11/Pkg/src/Pkg.jl:787\n"
     ]
    },
    {
     "data": {
      "text/plain": [
       "Dict{String, VersionNumber} with 11 entries:\n",
       "  \"CSV\"                => v\"0.10.15\"\n",
       "  \"HiGHS\"              => v\"1.12.2\"\n",
       "  \"Distributions\"      => v\"0.25.113\"\n",
       "  \"StatsPlots\"         => v\"0.15.7\"\n",
       "  \"JuMP\"               => v\"1.23.5\"\n",
       "  \"Ipopt\"              => v\"1.6.7\"\n",
       "  \"LaTeXStrings\"       => v\"1.4.0\"\n",
       "  \"Plots\"              => v\"1.40.9\"\n",
       "  \"PyPlot\"             => v\"2.11.5\"\n",
       "  \"IntervalArithmetic\" => v\"0.22.19\"\n",
       "  \"DataFrames\"         => v\"1.7.0\""
      ]
     },
     "metadata": {},
     "output_type": "display_data"
    }
   ],
   "source": [
    "# 既にインストールされているライブラリを表示\n",
    "using Pkg\n",
    "Pkg.installed()"
   ]
  },
  {
   "cell_type": "code",
   "execution_count": null,
   "id": "4a049e4c",
   "metadata": {},
   "outputs": [
    {
     "name": "stderr",
     "output_type": "stream",
     "text": [
      "\u001b[32m\u001b[1m   Resolving\u001b[22m\u001b[39m package versions...\n",
      "┌ Warning: could not download https://pkg.julialang.org/registries\n",
      "│   exception = Downloads.RequestError(\"https://pkg.julialang.org/registries\", 7, \"Failed to connect to jp.pkg.julialang.org port 443 after 2136 ms: Couldn't connect to server\", Downloads.Response(\"https\", \"https://jp.pkg.julialang.org/registries\", 301, \"HTTP/2 301\", [\"server\" => \"Varnish\", \"retry-after\" => \"0\", \"location\" => \"https://jp.pkg.julialang.org/registries\", \"x-geo-continent\" => \"AS\", \"x-geo-country\" => \"JP\", \"x-geo-region\" => \"27\", \"accept-ranges\" => \"bytes\", \"date\" => \"Mon, 28 Apr 2025 13:48:52 GMT\", \"via\" => \"1.1 varnish\", \"x-served-by\" => \"cache-itm1220043-ITM\", \"x-cache\" => \"HIT\", \"x-cache-hits\" => \"0\", \"x-timer\" => \"S1745848132.116986,VS0,VE0\", \"content-length\" => \"0\"]))\n",
      "└ @ Pkg.Registry /root/.julia/juliaup/julia-1.11.2+0.x64.linux.gnu/share/julia/stdlib/v1.11/Pkg/src/Registry/Registry.jl:77\n",
      "\u001b[32m\u001b[1m   Installed\u001b[22m\u001b[39m InvertedIndices ──── v1.3.0\n",
      "\u001b[32m\u001b[1m   Installed\u001b[22m\u001b[39m Crayons ──────────── v4.1.1\n",
      "\u001b[32m\u001b[1m   Installed\u001b[22m\u001b[39m StringManipulation ─ v0.4.0\n",
      "\u001b[32m\u001b[1m   Installed\u001b[22m\u001b[39m PrettyTables ─────── v2.4.0\n",
      "\u001b[32m\u001b[1m   Installed\u001b[22m\u001b[39m DataFrames ───────── v1.7.0\n",
      "\u001b[32m\u001b[1m    Updating\u001b[22m\u001b[39m `~/.julia/environments/v1.11/Project.toml`\n",
      "  \u001b[90m[a93c6f00] \u001b[39m\u001b[92m+ DataFrames v1.7.0\u001b[39m\n",
      "\u001b[32m\u001b[1m    Updating\u001b[22m\u001b[39m `~/.julia/environments/v1.11/Manifest.toml`\n",
      "  \u001b[90m[a8cc5b0e] \u001b[39m\u001b[92m+ Crayons v4.1.1\u001b[39m\n",
      "  \u001b[90m[a93c6f00] \u001b[39m\u001b[92m+ DataFrames v1.7.0\u001b[39m\n",
      "  \u001b[90m[41ab1584] \u001b[39m\u001b[92m+ InvertedIndices v1.3.0\u001b[39m\n",
      "  \u001b[90m[08abe8d2] \u001b[39m\u001b[92m+ PrettyTables v2.4.0\u001b[39m\n",
      "  \u001b[90m[892a3eda] \u001b[39m\u001b[92m+ StringManipulation v0.4.0\u001b[39m\n",
      "\u001b[92m\u001b[1mPrecompiling\u001b[22m\u001b[39m project...\n",
      "    591.2 ms\u001b[32m  ✓ \u001b[39m\u001b[90mInvertedIndices\u001b[39m\n",
      "   1166.5 ms\u001b[32m  ✓ \u001b[39m\u001b[90mCrayons\u001b[39m\n",
      "   1843.5 ms\u001b[32m  ✓ \u001b[39m\u001b[90mStringManipulation\u001b[39m\n",
      "  18097.0 ms\u001b[32m  ✓ \u001b[39m\u001b[90mPrettyTables\u001b[39m\n",
      "  40638.3 ms\u001b[32m  ✓ \u001b[39mDataFrames\n",
      "   1388.0 ms\u001b[32m  ✓ \u001b[39m\u001b[90mLatexify → DataFramesExt\u001b[39m\n",
      "  6 dependencies successfully precompiled in 62 seconds. 292 already precompiled.\n"
     ]
    }
   ],
   "source": [
    "# 追加したいライブラリがあれば、次のコマンドを実行してください\n",
    "# 例1：ライブラリ: CSV をインストールする場合\n",
    "# Pkg.add(\"CSV\")\n",
    "# 例2：ライブラリ: DataFrames をインストールする場合\n",
    "Pkg.add(\"DataFrames\")"
   ]
  }
 ],
 "metadata": {
  "kernelspec": {
   "display_name": "Julia 1.11.2",
   "language": "julia",
   "name": "julia-1.11"
  },
  "language_info": {
   "file_extension": ".jl",
   "mimetype": "application/julia",
   "name": "julia",
   "version": "1.11.2"
  }
 },
 "nbformat": 4,
 "nbformat_minor": 5
}
